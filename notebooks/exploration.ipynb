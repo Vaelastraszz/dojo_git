{
 "cells": [
  {
   "cell_type": "code",
   "execution_count": 64,
   "metadata": {},
   "outputs": [],
   "source": [
    "import pandas as pd\n",
    "from datetime import datetime\n",
    "import matplotlib.pyplot as plt\n",
    "import seaborn as sns"
   ]
  },
  {
   "cell_type": "code",
   "execution_count": 20,
   "metadata": {},
   "outputs": [],
   "source": [
    "df_customers = pd.read_csv(\"https://dojo-git.s3.eu-west-3.amazonaws.com/cleaned/customers.csv\")\n",
    "df_products = pd.read_csv(\"https://dojo-git.s3.eu-west-3.amazonaws.com/cleaned/products.csv\")\n",
    "df_transactions = pd.read_csv(\"https://dojo-git.s3.eu-west-3.amazonaws.com/cleaned/Transactions.csv\")"
   ]
  },
  {
   "cell_type": "code",
   "execution_count": 26,
   "metadata": {},
   "outputs": [],
   "source": [
    "df_transactions = df_transactions['id_prod;date;session_id;client_id'].str.split(';', expand=True)\n",
    "df_products = df_products['id_prod;price;categ'].str.split(';', expand=True)\n",
    "df_customers = df_customers['client_id;sex;birth'].str.split(';', expand=True)"
   ]
  },
  {
   "cell_type": "code",
   "execution_count": 27,
   "metadata": {},
   "outputs": [],
   "source": [
    "df_transactions.columns = ['id_prod', 'date', 'session_id', 'client_id']\n",
    "df_products.columns = ['id_prod', 'price', 'categ']\n",
    "df_customers.columns = ['client_id', 'sex', 'birth']"
   ]
  },
  {
   "cell_type": "code",
   "execution_count": 28,
   "metadata": {},
   "outputs": [],
   "source": [
    "df_merged = pd.merge(df_products, df_transactions, on='id_prod', how='left')"
   ]
  },
  {
   "cell_type": "code",
   "execution_count": 29,
   "metadata": {},
   "outputs": [],
   "source": [
    "df = pd.merge(df_merged, df_customers, on='client_id', how='inner')"
   ]
  },
  {
   "cell_type": "code",
   "execution_count": 30,
   "metadata": {},
   "outputs": [
    {
     "data": {
      "text/html": [
       "<div>\n",
       "<style scoped>\n",
       "    .dataframe tbody tr th:only-of-type {\n",
       "        vertical-align: middle;\n",
       "    }\n",
       "\n",
       "    .dataframe tbody tr th {\n",
       "        vertical-align: top;\n",
       "    }\n",
       "\n",
       "    .dataframe thead th {\n",
       "        text-align: right;\n",
       "    }\n",
       "</style>\n",
       "<table border=\"1\" class=\"dataframe\">\n",
       "  <thead>\n",
       "    <tr style=\"text-align: right;\">\n",
       "      <th></th>\n",
       "      <th>id_prod</th>\n",
       "      <th>price</th>\n",
       "      <th>categ</th>\n",
       "      <th>date</th>\n",
       "      <th>session_id</th>\n",
       "      <th>client_id</th>\n",
       "      <th>sex</th>\n",
       "      <th>birth</th>\n",
       "    </tr>\n",
       "  </thead>\n",
       "  <tbody>\n",
       "    <tr>\n",
       "      <th>0</th>\n",
       "      <td>0_1421</td>\n",
       "      <td>19.99</td>\n",
       "      <td>0</td>\n",
       "      <td>2021-03-01 04:13:00.107748</td>\n",
       "      <td>s_101</td>\n",
       "      <td>c_8533</td>\n",
       "      <td>m</td>\n",
       "      <td>1972</td>\n",
       "    </tr>\n",
       "    <tr>\n",
       "      <th>1</th>\n",
       "      <td>0_1421</td>\n",
       "      <td>19.99</td>\n",
       "      <td>0</td>\n",
       "      <td>2021-03-01 13:48:20.214075</td>\n",
       "      <td>s_285</td>\n",
       "      <td>c_5299</td>\n",
       "      <td>f</td>\n",
       "      <td>1967</td>\n",
       "    </tr>\n",
       "  </tbody>\n",
       "</table>\n",
       "</div>"
      ],
      "text/plain": [
       "  id_prod  price categ                        date session_id client_id sex  \\\n",
       "0  0_1421  19.99     0  2021-03-01 04:13:00.107748      s_101    c_8533   m   \n",
       "1  0_1421  19.99     0  2021-03-01 13:48:20.214075      s_285    c_5299   f   \n",
       "\n",
       "  birth  \n",
       "0  1972  \n",
       "1  1967  "
      ]
     },
     "execution_count": 30,
     "metadata": {},
     "output_type": "execute_result"
    }
   ],
   "source": [
    "df.head(2)"
   ]
  },
  {
   "cell_type": "code",
   "execution_count": 31,
   "metadata": {},
   "outputs": [
    {
     "data": {
      "text/plain": [
       "(687534, 8)"
      ]
     },
     "execution_count": 31,
     "metadata": {},
     "output_type": "execute_result"
    }
   ],
   "source": [
    "# Nombre de transactions\n",
    "df.shape"
   ]
  },
  {
   "cell_type": "code",
   "execution_count": 32,
   "metadata": {},
   "outputs": [
    {
     "data": {
      "text/plain": [
       "8600"
      ]
     },
     "execution_count": 32,
     "metadata": {},
     "output_type": "execute_result"
    }
   ],
   "source": [
    "# Nombre de clients uniques\n",
    "df['client_id'].nunique()"
   ]
  },
  {
   "cell_type": "code",
   "execution_count": 52,
   "metadata": {},
   "outputs": [
    {
     "data": {
      "text/plain": [
       "3265"
      ]
     },
     "execution_count": 52,
     "metadata": {},
     "output_type": "execute_result"
    }
   ],
   "source": [
    "# Nombre de produits uniques\n",
    "df['id_prod'].nunique()"
   ]
  },
  {
   "cell_type": "code",
   "execution_count": 57,
   "metadata": {},
   "outputs": [
    {
     "name": "stdout",
     "output_type": "stream",
     "text": [
      "<class 'pandas.core.frame.DataFrame'>\n",
      "RangeIndex: 687534 entries, 0 to 687533\n",
      "Data columns (total 8 columns):\n",
      " #   Column      Non-Null Count   Dtype         \n",
      "---  ------      --------------   -----         \n",
      " 0   id_prod     687534 non-null  object        \n",
      " 1   price       687534 non-null  float64       \n",
      " 2   categ       687534 non-null  object        \n",
      " 3   date        687298 non-null  datetime64[ns]\n",
      " 4   session_id  687534 non-null  object        \n",
      " 5   client_id   687534 non-null  object        \n",
      " 6   sex         687534 non-null  object        \n",
      " 7   birth       687534 non-null  int32         \n",
      "dtypes: datetime64[ns](1), float64(1), int32(1), object(5)\n",
      "memory usage: 39.3+ MB\n"
     ]
    }
   ],
   "source": [
    "df.info()"
   ]
  },
  {
   "cell_type": "code",
   "execution_count": 41,
   "metadata": {},
   "outputs": [],
   "source": [
    "# Colonne date au format date\n",
    "df['date'] = pd.to_datetime(df['date'], errors='coerce')\n",
    "df['date'] = df['date'].dt.floor('d')"
   ]
  },
  {
   "cell_type": "code",
   "execution_count": 49,
   "metadata": {},
   "outputs": [],
   "source": [
    "# Colonne birth au format date\n",
    "df['birth'] = pd.to_datetime(df['birth'], errors='coerce')\n",
    "df['birth'] = df['birth'].dt.year"
   ]
  },
  {
   "cell_type": "code",
   "execution_count": 71,
   "metadata": {},
   "outputs": [],
   "source": [
    "# On récupère la date d'aujourd'hui dans la variable today\n",
    "\n",
    "today = datetime.now()"
   ]
  },
  {
   "cell_type": "code",
   "execution_count": 54,
   "metadata": {},
   "outputs": [],
   "source": [
    "# colonne price en int\n",
    "df['price'] = df['price'].astype(float)"
   ]
  },
  {
   "cell_type": "code",
   "execution_count": 55,
   "metadata": {},
   "outputs": [
    {
     "data": {
      "text/html": [
       "<div>\n",
       "<style scoped>\n",
       "    .dataframe tbody tr th:only-of-type {\n",
       "        vertical-align: middle;\n",
       "    }\n",
       "\n",
       "    .dataframe tbody tr th {\n",
       "        vertical-align: top;\n",
       "    }\n",
       "\n",
       "    .dataframe thead th {\n",
       "        text-align: right;\n",
       "    }\n",
       "</style>\n",
       "<table border=\"1\" class=\"dataframe\">\n",
       "  <thead>\n",
       "    <tr style=\"text-align: right;\">\n",
       "      <th></th>\n",
       "      <th>id_prod</th>\n",
       "      <th>price</th>\n",
       "      <th>categ</th>\n",
       "      <th>date</th>\n",
       "      <th>session_id</th>\n",
       "      <th>client_id</th>\n",
       "      <th>sex</th>\n",
       "      <th>birth</th>\n",
       "    </tr>\n",
       "  </thead>\n",
       "  <tbody>\n",
       "    <tr>\n",
       "      <th>0</th>\n",
       "      <td>0_1421</td>\n",
       "      <td>19.99</td>\n",
       "      <td>0</td>\n",
       "      <td>2021-03-01</td>\n",
       "      <td>s_101</td>\n",
       "      <td>c_8533</td>\n",
       "      <td>m</td>\n",
       "      <td>1972</td>\n",
       "    </tr>\n",
       "    <tr>\n",
       "      <th>1</th>\n",
       "      <td>0_1421</td>\n",
       "      <td>19.99</td>\n",
       "      <td>0</td>\n",
       "      <td>2021-03-01</td>\n",
       "      <td>s_285</td>\n",
       "      <td>c_5299</td>\n",
       "      <td>f</td>\n",
       "      <td>1967</td>\n",
       "    </tr>\n",
       "    <tr>\n",
       "      <th>2</th>\n",
       "      <td>0_1421</td>\n",
       "      <td>19.99</td>\n",
       "      <td>0</td>\n",
       "      <td>2021-03-01</td>\n",
       "      <td>s_317</td>\n",
       "      <td>c_8024</td>\n",
       "      <td>f</td>\n",
       "      <td>1936</td>\n",
       "    </tr>\n",
       "    <tr>\n",
       "      <th>3</th>\n",
       "      <td>0_1421</td>\n",
       "      <td>19.99</td>\n",
       "      <td>0</td>\n",
       "      <td>2021-03-02</td>\n",
       "      <td>s_563</td>\n",
       "      <td>c_7702</td>\n",
       "      <td>f</td>\n",
       "      <td>1989</td>\n",
       "    </tr>\n",
       "    <tr>\n",
       "      <th>4</th>\n",
       "      <td>0_1421</td>\n",
       "      <td>19.99</td>\n",
       "      <td>0</td>\n",
       "      <td>2021-03-02</td>\n",
       "      <td>s_850</td>\n",
       "      <td>c_4057</td>\n",
       "      <td>m</td>\n",
       "      <td>1981</td>\n",
       "    </tr>\n",
       "  </tbody>\n",
       "</table>\n",
       "</div>"
      ],
      "text/plain": [
       "  id_prod  price categ       date session_id client_id sex  birth\n",
       "0  0_1421  19.99     0 2021-03-01      s_101    c_8533   m   1972\n",
       "1  0_1421  19.99     0 2021-03-01      s_285    c_5299   f   1967\n",
       "2  0_1421  19.99     0 2021-03-01      s_317    c_8024   f   1936\n",
       "3  0_1421  19.99     0 2021-03-02      s_563    c_7702   f   1989\n",
       "4  0_1421  19.99     0 2021-03-02      s_850    c_4057   m   1981"
      ]
     },
     "execution_count": 55,
     "metadata": {},
     "output_type": "execute_result"
    }
   ],
   "source": [
    "df.head()"
   ]
  },
  {
   "cell_type": "code",
   "execution_count": 56,
   "metadata": {},
   "outputs": [
    {
     "data": {
      "text/html": [
       "<div>\n",
       "<style scoped>\n",
       "    .dataframe tbody tr th:only-of-type {\n",
       "        vertical-align: middle;\n",
       "    }\n",
       "\n",
       "    .dataframe tbody tr th {\n",
       "        vertical-align: top;\n",
       "    }\n",
       "\n",
       "    .dataframe thead th {\n",
       "        text-align: right;\n",
       "    }\n",
       "</style>\n",
       "<table border=\"1\" class=\"dataframe\">\n",
       "  <thead>\n",
       "    <tr style=\"text-align: right;\">\n",
       "      <th></th>\n",
       "      <th>price</th>\n",
       "      <th>date</th>\n",
       "      <th>birth</th>\n",
       "    </tr>\n",
       "  </thead>\n",
       "  <tbody>\n",
       "    <tr>\n",
       "      <th>count</th>\n",
       "      <td>687534.000000</td>\n",
       "      <td>687298</td>\n",
       "      <td>687534.000000</td>\n",
       "    </tr>\n",
       "    <tr>\n",
       "      <th>mean</th>\n",
       "      <td>17.493918</td>\n",
       "      <td>2022-03-01 10:33:12.980046848</td>\n",
       "      <td>1977.817391</td>\n",
       "    </tr>\n",
       "    <tr>\n",
       "      <th>min</th>\n",
       "      <td>0.620000</td>\n",
       "      <td>2021-03-01 00:00:00</td>\n",
       "      <td>1929.000000</td>\n",
       "    </tr>\n",
       "    <tr>\n",
       "      <th>25%</th>\n",
       "      <td>8.990000</td>\n",
       "      <td>2021-09-10 00:00:00</td>\n",
       "      <td>1970.000000</td>\n",
       "    </tr>\n",
       "    <tr>\n",
       "      <th>50%</th>\n",
       "      <td>13.990000</td>\n",
       "      <td>2022-02-27 00:00:00</td>\n",
       "      <td>1980.000000</td>\n",
       "    </tr>\n",
       "    <tr>\n",
       "      <th>75%</th>\n",
       "      <td>19.080000</td>\n",
       "      <td>2022-08-28 00:00:00</td>\n",
       "      <td>1987.000000</td>\n",
       "    </tr>\n",
       "    <tr>\n",
       "      <th>max</th>\n",
       "      <td>300.000000</td>\n",
       "      <td>2023-02-28 00:00:00</td>\n",
       "      <td>2004.000000</td>\n",
       "    </tr>\n",
       "    <tr>\n",
       "      <th>std</th>\n",
       "      <td>18.238337</td>\n",
       "      <td>NaN</td>\n",
       "      <td>13.607935</td>\n",
       "    </tr>\n",
       "  </tbody>\n",
       "</table>\n",
       "</div>"
      ],
      "text/plain": [
       "               price                           date          birth\n",
       "count  687534.000000                         687298  687534.000000\n",
       "mean       17.493918  2022-03-01 10:33:12.980046848    1977.817391\n",
       "min         0.620000            2021-03-01 00:00:00    1929.000000\n",
       "25%         8.990000            2021-09-10 00:00:00    1970.000000\n",
       "50%        13.990000            2022-02-27 00:00:00    1980.000000\n",
       "75%        19.080000            2022-08-28 00:00:00    1987.000000\n",
       "max       300.000000            2023-02-28 00:00:00    2004.000000\n",
       "std        18.238337                            NaN      13.607935"
      ]
     },
     "execution_count": 56,
     "metadata": {},
     "output_type": "execute_result"
    }
   ],
   "source": [
    "df.describe()"
   ]
  },
  {
   "cell_type": "code",
   "execution_count": 59,
   "metadata": {},
   "outputs": [
    {
     "data": {
      "image/png": "[encoded data removed]",
      "text/plain": [
       "<Figure size 640x480 with 1 Axes>"
      ]
     },
     "metadata": {},
     "output_type": "display_data"
    }
   ],
   "source": [
    "plt.hist(df['price'], bins=20, color='skyblue', edgecolor='black')\n",
    "plt.xlabel('Prix')\n",
    "plt.ylabel('Fréquence')\n",
    "plt.title('Histogramme des prix des produits')\n",
    "plt.show()"
   ]
  },
  {
   "cell_type": "code",
   "execution_count": 62,
   "metadata": {},
   "outputs": [
    {
     "data": {
      "image/png": "[encoded data removed]",
      "text/plain": [
       "<Figure size 640x480 with 1 Axes>"
      ]
     },
     "metadata": {},
     "output_type": "display_data"
    }
   ],
   "source": [
    "sales_by_category = df.groupby('categ').size()\n",
    "plt.bar(sales_by_category.index, sales_by_category.values, color='green')\n",
    "plt.xlabel('Catégorie')\n",
    "plt.ylabel('Nombre de ventes')\n",
    "plt.title('Nombre de ventes par catégorie')\n",
    "plt.show()"
   ]
  },
  {
   "cell_type": "code",
   "execution_count": 63,
   "metadata": {},
   "outputs": [
    {
     "data": {
      "text/plain": [
       "categ\n",
       "0    415459\n",
       "1    235592\n",
       "2     36483\n",
       "Name: count, dtype: int64"
      ]
     },
     "execution_count": 63,
     "metadata": {},
     "output_type": "execute_result"
    }
   ],
   "source": [
    "df['categ'].value_counts()"
   ]
  },
  {
   "cell_type": "code",
   "execution_count": 67,
   "metadata": {},
   "outputs": [],
   "source": [
    "# Calcul du prix moyen par catégorie\n",
    "prix_moyen_par_categorie = df.groupby('categ')['price'].mean()"
   ]
  },
  {
   "cell_type": "code",
   "execution_count": 68,
   "metadata": {},
   "outputs": [
    {
     "data": {
      "image/png": "[encoded data removed]",
      "text/plain": [
       "<Figure size 640x480 with 1 Axes>"
      ]
     },
     "metadata": {},
     "output_type": "display_data"
    }
   ],
   "source": [
    "# Diagramme en barres pour le prix moyen par catégorie\n",
    "prix_moyen_par_categorie.plot(kind='bar', color='skyblue')\n",
    "plt.xlabel('Catégorie')\n",
    "plt.ylabel('Prix moyen')\n",
    "plt.title('Prix moyen par catégorie')\n",
    "plt.show()"
   ]
  },
  {
   "cell_type": "markdown",
   "metadata": {},
   "source": [
    "## RFM"
   ]
  },
  {
   "cell_type": "code",
   "execution_count": 75,
   "metadata": {},
   "outputs": [],
   "source": [
    "# Création d'une table rfm\n",
    "\n",
    "rfm = df.groupby('client_id').agg(\n",
    "    {\n",
    "        'date' : lambda x: (today - x.max()).days, # Calcul du nombre de jours entre la date d'aujourd'hui et la date de la dernière commande par clients\n",
    "        'client_id' : 'count',\n",
    "        'price' : 'sum',\n",
    "        }\n",
    "    ).rename(columns={\n",
    "            'date' : 'Recency',\n",
    "            'client_id' : 'Frequency',\n",
    "            'price' : 'Monetary',\n",
    "        }\n",
    "    ).reset_index()"
   ]
  },
  {
   "cell_type": "code",
   "execution_count": 76,
   "metadata": {},
   "outputs": [
    {
     "data": {
      "text/html": [
       "<div>\n",
       "<style scoped>\n",
       "    .dataframe tbody tr th:only-of-type {\n",
       "        vertical-align: middle;\n",
       "    }\n",
       "\n",
       "    .dataframe tbody tr th {\n",
       "        vertical-align: top;\n",
       "    }\n",
       "\n",
       "    .dataframe thead th {\n",
       "        text-align: right;\n",
       "    }\n",
       "</style>\n",
       "<table border=\"1\" class=\"dataframe\">\n",
       "  <thead>\n",
       "    <tr style=\"text-align: right;\">\n",
       "      <th></th>\n",
       "      <th>client_id</th>\n",
       "      <th>Recency</th>\n",
       "      <th>Frequency</th>\n",
       "      <th>Monetary</th>\n",
       "    </tr>\n",
       "  </thead>\n",
       "  <tbody>\n",
       "    <tr>\n",
       "      <th>0</th>\n",
       "      <td>c_1</td>\n",
       "      <td>500</td>\n",
       "      <td>43</td>\n",
       "      <td>629.02</td>\n",
       "    </tr>\n",
       "    <tr>\n",
       "      <th>1</th>\n",
       "      <td>c_10</td>\n",
       "      <td>488</td>\n",
       "      <td>58</td>\n",
       "      <td>1353.60</td>\n",
       "    </tr>\n",
       "    <tr>\n",
       "      <th>2</th>\n",
       "      <td>c_100</td>\n",
       "      <td>617</td>\n",
       "      <td>8</td>\n",
       "      <td>254.85</td>\n",
       "    </tr>\n",
       "    <tr>\n",
       "      <th>3</th>\n",
       "      <td>c_1000</td>\n",
       "      <td>491</td>\n",
       "      <td>126</td>\n",
       "      <td>2291.88</td>\n",
       "    </tr>\n",
       "    <tr>\n",
       "      <th>4</th>\n",
       "      <td>c_1001</td>\n",
       "      <td>461</td>\n",
       "      <td>103</td>\n",
       "      <td>1823.85</td>\n",
       "    </tr>\n",
       "    <tr>\n",
       "      <th>...</th>\n",
       "      <td>...</td>\n",
       "      <td>...</td>\n",
       "      <td>...</td>\n",
       "      <td>...</td>\n",
       "    </tr>\n",
       "    <tr>\n",
       "      <th>8595</th>\n",
       "      <td>c_995</td>\n",
       "      <td>555</td>\n",
       "      <td>14</td>\n",
       "      <td>189.41</td>\n",
       "    </tr>\n",
       "    <tr>\n",
       "      <th>8596</th>\n",
       "      <td>c_996</td>\n",
       "      <td>463</td>\n",
       "      <td>96</td>\n",
       "      <td>1637.34</td>\n",
       "    </tr>\n",
       "    <tr>\n",
       "      <th>8597</th>\n",
       "      <td>c_997</td>\n",
       "      <td>479</td>\n",
       "      <td>59</td>\n",
       "      <td>1490.01</td>\n",
       "    </tr>\n",
       "    <tr>\n",
       "      <th>8598</th>\n",
       "      <td>c_998</td>\n",
       "      <td>462</td>\n",
       "      <td>55</td>\n",
       "      <td>2822.22</td>\n",
       "    </tr>\n",
       "    <tr>\n",
       "      <th>8599</th>\n",
       "      <td>c_999</td>\n",
       "      <td>474</td>\n",
       "      <td>46</td>\n",
       "      <td>701.40</td>\n",
       "    </tr>\n",
       "  </tbody>\n",
       "</table>\n",
       "<p>8600 rows × 4 columns</p>\n",
       "</div>"
      ],
      "text/plain": [
       "     client_id  Recency  Frequency  Monetary\n",
       "0          c_1      500         43    629.02\n",
       "1         c_10      488         58   1353.60\n",
       "2        c_100      617          8    254.85\n",
       "3       c_1000      491        126   2291.88\n",
       "4       c_1001      461        103   1823.85\n",
       "...        ...      ...        ...       ...\n",
       "8595     c_995      555         14    189.41\n",
       "8596     c_996      463         96   1637.34\n",
       "8597     c_997      479         59   1490.01\n",
       "8598     c_998      462         55   2822.22\n",
       "8599     c_999      474         46    701.40\n",
       "\n",
       "[8600 rows x 4 columns]"
      ]
     },
     "execution_count": 76,
     "metadata": {},
     "output_type": "execute_result"
    }
   ],
   "source": [
    "rfm"
   ]
  },
  {
   "cell_type": "code",
   "execution_count": 82,
   "metadata": {},
   "outputs": [
    {
     "data": {
      "text/html": [
       "<div>\n",
       "<style scoped>\n",
       "    .dataframe tbody tr th:only-of-type {\n",
       "        vertical-align: middle;\n",
       "    }\n",
       "\n",
       "    .dataframe tbody tr th {\n",
       "        vertical-align: top;\n",
       "    }\n",
       "\n",
       "    .dataframe thead th {\n",
       "        text-align: right;\n",
       "    }\n",
       "</style>\n",
       "<table border=\"1\" class=\"dataframe\">\n",
       "  <thead>\n",
       "    <tr style=\"text-align: right;\">\n",
       "      <th></th>\n",
       "      <th>Recency</th>\n",
       "      <th>Frequency</th>\n",
       "      <th>Monetary</th>\n",
       "    </tr>\n",
       "  </thead>\n",
       "  <tbody>\n",
       "    <tr>\n",
       "      <th>count</th>\n",
       "      <td>8600.000000</td>\n",
       "      <td>8600.000000</td>\n",
       "      <td>8600.000000</td>\n",
       "    </tr>\n",
       "    <tr>\n",
       "      <th>mean</th>\n",
       "      <td>494.219535</td>\n",
       "      <td>79.945814</td>\n",
       "      <td>1398.565477</td>\n",
       "    </tr>\n",
       "    <tr>\n",
       "      <th>std</th>\n",
       "      <td>65.403644</td>\n",
       "      <td>313.532311</td>\n",
       "      <td>5202.771679</td>\n",
       "    </tr>\n",
       "    <tr>\n",
       "      <th>min</th>\n",
       "      <td>456.000000</td>\n",
       "      <td>1.000000</td>\n",
       "      <td>6.310000</td>\n",
       "    </tr>\n",
       "    <tr>\n",
       "      <th>25%</th>\n",
       "      <td>462.000000</td>\n",
       "      <td>28.000000</td>\n",
       "      <td>562.730000</td>\n",
       "    </tr>\n",
       "    <tr>\n",
       "      <th>50%</th>\n",
       "      <td>472.000000</td>\n",
       "      <td>52.000000</td>\n",
       "      <td>1045.695000</td>\n",
       "    </tr>\n",
       "    <tr>\n",
       "      <th>75%</th>\n",
       "      <td>497.000000</td>\n",
       "      <td>97.000000</td>\n",
       "      <td>1797.720000</td>\n",
       "    </tr>\n",
       "    <tr>\n",
       "      <th>max</th>\n",
       "      <td>1177.000000</td>\n",
       "      <td>25586.000000</td>\n",
       "      <td>326039.890000</td>\n",
       "    </tr>\n",
       "  </tbody>\n",
       "</table>\n",
       "</div>"
      ],
      "text/plain": [
       "           Recency     Frequency       Monetary\n",
       "count  8600.000000   8600.000000    8600.000000\n",
       "mean    494.219535     79.945814    1398.565477\n",
       "std      65.403644    313.532311    5202.771679\n",
       "min     456.000000      1.000000       6.310000\n",
       "25%     462.000000     28.000000     562.730000\n",
       "50%     472.000000     52.000000    1045.695000\n",
       "75%     497.000000     97.000000    1797.720000\n",
       "max    1177.000000  25586.000000  326039.890000"
      ]
     },
     "execution_count": 82,
     "metadata": {},
     "output_type": "execute_result"
    }
   ],
   "source": [
    "rfm.describe()"
   ]
  },
  {
   "cell_type": "code",
   "execution_count": 86,
   "metadata": {},
   "outputs": [
    {
     "data": {
      "image/png": "[encoded data removed]",
      "text/plain": [
       "<Figure size 1500x500 with 3 Axes>"
      ]
     },
     "metadata": {},
     "output_type": "display_data"
    }
   ],
   "source": [
    "# boxplots RFM\n",
    "fig, axs = plt.subplots(1, 3, figsize=(15, 5))\n",
    "\n",
    "sns.boxplot(x=rfm['Recency'], ax=axs[0], color='blue')\n",
    "axs[0].set_title('Boxplot de la Recency')\n",
    "\n",
    "sns.boxplot(x=rfm['Frequency'], ax=axs[1], color='green')\n",
    "axs[1].set_title('Boxplot de la Frequency')\n",
    "\n",
    "sns.boxplot(x=rfm['Monetary'], ax=axs[2], color='red')\n",
    "axs[2].set_title('Boxplot de la Monetary')\n",
    "\n",
    "plt.show()"
   ]
  },
  {
   "cell_type": "markdown",
   "metadata": {},
   "source": [
    "### Vizualisations"
   ]
  },
  {
   "cell_type": "code",
   "execution_count": 95,
   "metadata": {},
   "outputs": [],
   "source": [
    "recency_bins = [0, 150, 300, 450, 600, 750, 900, 1050, 1200, 1350]\n",
    "frequency_bins = [0, 20, 40, 60, 80, 100, 120, 140, 160, 180, 200]\n",
    "monetary_bins = [0, 200, 400, 600, 800, 1000, 1200, 1400, 1600, 1800]"
   ]
  },
  {
   "cell_type": "code",
   "execution_count": 96,
   "metadata": {},
   "outputs": [
    {
     "data": {
      "image/png": "[encoded data removed]",
      "text/plain": [
       "<Figure size 1500x500 with 3 Axes>"
      ]
     },
     "metadata": {},
     "output_type": "display_data"
    }
   ],
   "source": [
    "# Diagrammes de distributions\n",
    "figs, axs = plt.subplots(1, 3, figsize=(15, 5))\n",
    "\n",
    "sns.histplot(\n",
    "    rfm['Recency'],\n",
    "    ax=axs[0],\n",
    "    color='blue',\n",
    "    bins=recency_bins,\n",
    ")\n",
    "axs[0].set_title('Distribution de la Recency')\n",
    "\n",
    "sns.histplot(\n",
    "    rfm['Frequency'],\n",
    "    ax=axs[1],\n",
    "    color='green',\n",
    "    bins=frequency_bins,\n",
    ")\n",
    "axs[1].set_title('Distribution de la Frequency')\n",
    "\n",
    "sns.histplot(\n",
    "    rfm['Monetary'],\n",
    "    ax=axs[2],\n",
    "    color='red',\n",
    "    bins=monetary_bins,\n",
    ")\n",
    "axs[2].set_title('Distribution de la Monetary')\n",
    "\n",
    "plt.show()\n"
   ]
  },
  {
   "cell_type": "markdown",
   "metadata": {},
   "source": [
    "## Pour commit test"
   ]
  }
 ],
 "metadata": {
  "kernelspec": {
   "display_name": "Python 3",
   "language": "python",
   "name": "python3"
  },
  "language_info": {
   "codemirror_mode": {
    "name": "ipython",
    "version": 3
   },
   "file_extension": ".py",
   "mimetype": "text/x-python",
   "name": "python",
   "nbconvert_exporter": "python",
   "pygments_lexer": "ipython3",
   "version": "3.12.3"
  }
 },
 "nbformat": 4,
 "nbformat_minor": 2
}
